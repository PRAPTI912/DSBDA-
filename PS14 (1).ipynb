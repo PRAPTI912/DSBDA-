{
 "cells": [
  {
   "cell_type": "code",
   "execution_count": 1,
   "id": "a629eb75-9657-4c63-9e3b-049fd43342b7",
   "metadata": {},
   "outputs": [],
   "source": [
    "import pandas as pd"
   ]
  },
  {
   "cell_type": "code",
   "execution_count": 5,
   "id": "a0816473-47ad-451f-89b5-de2ec7a2e7ab",
   "metadata": {},
   "outputs": [],
   "source": [
    "df = pd.read_csv(r\"C:\\Users\\Prapti\\OneDrive\\Desktop\\DSBDA labs\\sample_weather.txt\", parse_dates=['Date'])"
   ]
  },
  {
   "cell_type": "code",
   "execution_count": 9,
   "id": "b043e039-fa65-460f-9a9c-659299af9e80",
   "metadata": {},
   "outputs": [],
   "source": [
    "# Extract Year and Month\n",
    "df['Year'] = df['Date'].dt.year\n",
    "df['Month'] = df['Date'].dt.to_period('M')\n"
   ]
  },
  {
   "cell_type": "code",
   "execution_count": 11,
   "id": "df2d7c3e-a2c1-41ce-8d4b-47c0ac5fd484",
   "metadata": {},
   "outputs": [
    {
     "name": "stdout",
     "output_type": "stream",
     "text": [
      "📅 Year-wise Averages:\n",
      "      Temperature  Dew Point  Wind Speed\n",
      "Year                                    \n",
      "2021        31.85      26.62       12.28\n",
      "2022        30.02      24.32       11.82\n"
     ]
    }
   ],
   "source": [
    "# Year-wise averages\n",
    "yearly_avg = df.groupby('Year')[['Temperature', 'Dew Point', 'Wind Speed']].mean().round(2)\n",
    "print(\"📅 Year-wise Averages:\")\n",
    "print(yearly_avg)\n"
   ]
  },
  {
   "cell_type": "code",
   "execution_count": 13,
   "id": "327b69fb-788c-4ab1-846f-b4db92f34b3c",
   "metadata": {},
   "outputs": [
    {
     "name": "stdout",
     "output_type": "stream",
     "text": [
      "\n",
      "📆 Month-wise Averages:\n",
      "         Temperature  Dew Point  Wind Speed\n",
      "Month                                      \n",
      "2021-01        30.85      25.70       11.70\n",
      "2021-02        32.85      27.55       12.85\n",
      "2022-01        29.00      23.10       10.75\n",
      "2022-02        31.05      25.55       12.90\n"
     ]
    }
   ],
   "source": [
    "# Month-wise averages\n",
    "monthly_avg = df.groupby('Month')[['Temperature', 'Dew Point', 'Wind Speed']].mean().round(2)\n",
    "print(\"\\n📆 Month-wise Averages:\")\n",
    "print(monthly_avg)"
   ]
  },
  {
   "cell_type": "code",
   "execution_count": null,
   "id": "196187d5-6fbf-4c30-9547-ef302947dd07",
   "metadata": {},
   "outputs": [],
   "source": []
  }
 ],
 "metadata": {
  "kernelspec": {
   "display_name": "Python [conda env:base] *",
   "language": "python",
   "name": "conda-base-py"
  },
  "language_info": {
   "codemirror_mode": {
    "name": "ipython",
    "version": 3
   },
   "file_extension": ".py",
   "mimetype": "text/x-python",
   "name": "python",
   "nbconvert_exporter": "python",
   "pygments_lexer": "ipython3",
   "version": "3.12.7"
  }
 },
 "nbformat": 4,
 "nbformat_minor": 5
}
